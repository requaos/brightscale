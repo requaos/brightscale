{
 "cells": [
  {
   "cell_type": "code",
   "execution_count": null,
   "metadata": {},
   "outputs": [],
   "source": [
    "import $ivy.`org.apache.spark::spark-sql:3.3.1`\n",
    "import org.apache.spark.sql._\n",
    "import $ivy.`io.delta:delta-core_2.13:2.2.0`\n",
    "\n",
    "import java.io.File\n",
    "\n",
    "import io.delta.tables.DeltaTable\n",
    "import org.apache.commons.io.FileUtils\n",
    "\n",
    "import org.apache.spark.sql.functions.col\n",
    "\n",
    "import org.apache.log4j.{Level, Logger}\n",
    "Logger.getLogger(\"org\").setLevel(Level.OFF)"
   ]
  },
  {
   "cell_type": "code",
   "execution_count": null,
   "metadata": {},
   "outputs": [],
   "source": [
    "// Create Spark Session\n",
    "val spark = NotebookSparkSession\n",
    ".builder()\n",
    ".appName(\"Streaming\")\n",
    ".master(\"spark://spark-master:7077\")\n",
    ".config(\"spark.sql.extensions\", \"io.delta.sql.DeltaSparkSessionExtension\")\n",
    ".config(\"spark.sql.catalog.spark_catalog\",\"org.apache.spark.sql.delta.catalog.DeltaCatalog\")\n",
    ".getOrCreate()\n",
    "\n",
    "import spark.implicits._"
   ]
  },
  {
   "cell_type": "code",
   "execution_count": null,
   "metadata": {},
   "outputs": [],
   "source": [
    "// Beginning Deltalake Quickstart: https://docs.delta.io/latest/quick-start.html#set-up-apache-spark-with-delta-lake&language-scala\n",
    "val data = spark.range(0, 5)\n",
    "data.write.format(\"delta\").save(\"/opt/spark-data/delta-table\")"
   ]
  },
  {
   "cell_type": "code",
   "execution_count": null,
   "metadata": {},
   "outputs": [],
   "source": [
    "val df = spark.read.format(\"delta\").load(\"/tmp/delta-table\")\n",
    "df.show()"
   ]
  }
 ],
 "metadata": {
  "language_info": {
   "name": "python"
  },
  "orig_nbformat": 4
 },
 "nbformat": 4,
 "nbformat_minor": 2
}
